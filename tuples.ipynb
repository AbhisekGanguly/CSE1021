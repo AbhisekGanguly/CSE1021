{
 "cells": [
  {
   "cell_type": "markdown",
   "id": "bf78b7d5-4b6d-476b-9dab-7721be715010",
   "metadata": {},
   "source": [
    "# Tuples assignments"
   ]
  },
  {
   "cell_type": "code",
   "execution_count": 7,
   "id": "41a9e350-f680-4ca1-91f1-7201c197f790",
   "metadata": {},
   "outputs": [],
   "source": [
    "tup = (1,6,2,4,3,8,7,9,6,8,7)"
   ]
  },
  {
   "cell_type": "markdown",
   "id": "adbf4d31-81a0-464f-ad28-bb115dd36e88",
   "metadata": {},
   "source": [
    "## count() function to count the repeating values"
   ]
  },
  {
   "cell_type": "code",
   "execution_count": 3,
   "id": "76888896-7e93-4689-87db-6464035e06e2",
   "metadata": {},
   "outputs": [
    {
     "data": {
      "text/plain": [
       "2"
      ]
     },
     "execution_count": 3,
     "metadata": {},
     "output_type": "execute_result"
    }
   ],
   "source": [
    "tup.count(7)"
   ]
  },
  {
   "cell_type": "markdown",
   "id": "c1dec468-26e2-4819-905a-537799f011a0",
   "metadata": {},
   "source": [
    "## Index() function to get the index position"
   ]
  },
  {
   "cell_type": "code",
   "execution_count": 9,
   "id": "0896db52-ff06-44f0-8f66-43f959439546",
   "metadata": {},
   "outputs": [
    {
     "data": {
      "text/plain": [
       "2"
      ]
     },
     "execution_count": 9,
     "metadata": {},
     "output_type": "execute_result"
    }
   ],
   "source": [
    "tup.index(2)"
   ]
  },
  {
   "cell_type": "markdown",
   "id": "c4105c87-429c-4c97-a769-bca34db38f70",
   "metadata": {},
   "source": [
    "## max() function to return the maximum from the tuple"
   ]
  },
  {
   "cell_type": "code",
   "execution_count": 12,
   "id": "d35c2bed-9020-4ca9-8eed-9cc6e6fb4ae2",
   "metadata": {},
   "outputs": [
    {
     "data": {
      "text/plain": [
       "9"
      ]
     },
     "execution_count": 12,
     "metadata": {},
     "output_type": "execute_result"
    }
   ],
   "source": [
    "max(tup)"
   ]
  },
  {
   "cell_type": "markdown",
   "id": "ec2d46fb-e5fe-4537-a5ff-2b6507ac8341",
   "metadata": {},
   "source": [
    "## min() function to return the minimum from the tuple."
   ]
  },
  {
   "cell_type": "code",
   "execution_count": 13,
   "id": "c31252e9-feeb-417d-8a3d-519014721556",
   "metadata": {},
   "outputs": [
    {
     "data": {
      "text/plain": [
       "1"
      ]
     },
     "execution_count": 13,
     "metadata": {},
     "output_type": "execute_result"
    }
   ],
   "source": [
    "min(tup)"
   ]
  },
  {
   "cell_type": "code",
   "execution_count": null,
   "id": "f4910b4f-662f-4561-bf29-c1a568e4c499",
   "metadata": {},
   "outputs": [],
   "source": []
  }
 ],
 "metadata": {
  "kernelspec": {
   "display_name": "Python 3 (ipykernel)",
   "language": "python",
   "name": "python3"
  },
  "language_info": {
   "codemirror_mode": {
    "name": "ipython",
    "version": 3
   },
   "file_extension": ".py",
   "mimetype": "text/x-python",
   "name": "python",
   "nbconvert_exporter": "python",
   "pygments_lexer": "ipython3",
   "version": "3.9.5"
  }
 },
 "nbformat": 4,
 "nbformat_minor": 5
}

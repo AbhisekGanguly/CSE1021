{
 "cells": [
  {
   "cell_type": "markdown",
   "id": "8a57970d-d328-4fda-81bc-b5d46bf849ed",
   "metadata": {},
   "source": [
    "# K smallest element\n",
    "~Author: Abhisek Ganguly\n",
    "Class: CSE1021\n",
    "Faculty: Pooja Lalwani"
   ]
  },
  {
   "cell_type": "markdown",
   "id": "9a57edd7-99ca-4cd8-bf11-8f6582000f54",
   "metadata": {},
   "source": [
    "### Method 1 : Sorting algorithm; time complexity: O(n log n)"
   ]
  },
  {
   "cell_type": "code",
   "execution_count": 15,
   "id": "5db90121-b0a5-4411-a08d-34fd614c5c4e",
   "metadata": {},
   "outputs": [
    {
     "name": "stdout",
     "output_type": "stream",
     "text": [
      "2\n"
     ]
    }
   ],
   "source": [
    "def ksmallest(arr, k):\n",
    "    arr.sort()\n",
    "    print(arr[k-1])\n",
    " \n",
    "arr = [1, 23, 12, 9, 30, 2, 50]\n",
    "k = 2\n",
    "ksmallest(arr, k)"
   ]
  },
  {
   "cell_type": "markdown",
   "id": "5edd88a7-adf4-4a9d-a772-2da57e0f8ff0",
   "metadata": {},
   "source": [
    "### Method 2: Using Max Heap algorithm; time complexity: O(n log k)\n",
    "This code is made by importing heapq, an advanced heaping library for OOP in python. Find more about it in it's documentation [here](https://docs.python.org/3/library/heapq.html)."
   ]
  },
  {
   "cell_type": "code",
   "execution_count": 16,
   "id": "1a015326-27b6-4875-bd0a-63e116bcb443",
   "metadata": {},
   "outputs": [
    {
     "name": "stdout",
     "output_type": "stream",
     "text": [
      "k'th smallest element in the list is 6\n"
     ]
    }
   ],
   "source": [
    "import heapq\n",
    " \n",
    " \n",
    "# A simple implementation of max-heap based on `heapq`\n",
    "class MaxHeap:\n",
    " \n",
    "    def __init__(self, data=None):\n",
    "        if data is None:\n",
    "            self.data = []\n",
    "        else:\n",
    "            self.data = [-i for i in data]\n",
    "            heapq.heapify(self.data)\n",
    " \n",
    "    def top(self):\n",
    "        return -self.data[0]\n",
    " \n",
    "    def push(self, item):\n",
    "        heapq.heappush(self.data, -item)\n",
    " \n",
    "    def pop(self):\n",
    "        return -heapq.heappop(self.data)\n",
    " \n",
    "    def replace(self, item):\n",
    "        return heapq.heapreplace(self.data, -item)\n",
    " \n",
    " \n",
    "# Function to find the k'th smallest element in a list using max-heap\n",
    "def find_kth_smallest(input, k):\n",
    " \n",
    "    # base case\n",
    "    if not input or len(input) < k:\n",
    "        exit(-1)\n",
    " \n",
    "    pq = MaxHeap(input[0:k])\n",
    " \n",
    "    for i in range(k, len(input)):\n",
    "        if input[i] < pq.top():\n",
    "            pq.replace(input[i])\n",
    " \n",
    "    # return the root of max-heap\n",
    "    return pq.top()\n",
    " \n",
    " \n",
    "if __name__ == '__main__':\n",
    " \n",
    "    input = [7, 5, 6, 3, 9, 1]\n",
    "    k = 4\n",
    " \n",
    "    print('k\\'th smallest element in the list is', find_kth_smallest(input, k))"
   ]
  },
  {
   "cell_type": "code",
   "execution_count": null,
   "id": "13fbd895-4e5c-4f5c-b3c0-0b023515c528",
   "metadata": {},
   "outputs": [],
   "source": []
  }
 ],
 "metadata": {
  "kernelspec": {
   "display_name": "Python 3 (ipykernel)",
   "language": "python",
   "name": "python3"
  },
  "language_info": {
   "codemirror_mode": {
    "name": "ipython",
    "version": 3
   },
   "file_extension": ".py",
   "mimetype": "text/x-python",
   "name": "python",
   "nbconvert_exporter": "python",
   "pygments_lexer": "ipython3",
   "version": "3.9.5"
  }
 },
 "nbformat": 4,
 "nbformat_minor": 5
}

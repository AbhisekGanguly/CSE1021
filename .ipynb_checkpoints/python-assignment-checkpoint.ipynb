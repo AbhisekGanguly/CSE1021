{
 "cells": [
  {
   "cell_type": "code",
   "execution_count": 1,
   "id": "975a2b0e-ecf9-4ca1-a579-e8b662389c06",
   "metadata": {},
   "outputs": [
    {
     "name": "stdin",
     "output_type": "stream",
     "text": [
      "Enter a Number:  153\n"
     ]
    },
    {
     "name": "stdout",
     "output_type": "stream",
     "text": [
      "153\n",
      "The Number is an Armstrong\n"
     ]
    }
   ],
   "source": [
    "a = input(\"Enter a Number: \")\n",
    "b = str(a)\n",
    "l = len(b)\n",
    "s = 0\n",
    "B = 0\n",
    "sum = 0\n",
    "\n",
    "for i in range(l):\n",
    "    s = b[i]\n",
    "    B = int(s)\n",
    "    sum += B**l\n",
    "\n",
    "print(sum)\n",
    "sum = int(sum)\n",
    "a = int(a)\n",
    "\n",
    "if a is sum:\n",
    "    print(\"The Number is an Armstrong\")\n",
    "else:\n",
    "    print(\"The Number is not Armstrong\")\n",
    "\n",
    "#the complexity of this algorithm is O(N) aka linear"
   ]
  },
  {
   "cell_type": "code",
   "execution_count": 2,
   "id": "25b8ea45-afbb-4b1f-b40e-2fd1eb5897e1",
   "metadata": {},
   "outputs": [
    {
     "name": "stdin",
     "output_type": "stream",
     "text": [
      "Number of terms:  10\n"
     ]
    },
    {
     "name": "stdout",
     "output_type": "stream",
     "text": [
      "Fibonacci sequence:\n",
      "0\n",
      "1\n",
      "1\n",
      "2\n",
      "3\n",
      "5\n",
      "8\n",
      "13\n",
      "21\n",
      "34\n"
     ]
    }
   ],
   "source": [
    "def fibo(B):\n",
    "   if B <= 1:\n",
    "       return B\n",
    "   else:\n",
    "       return(fibo(B-1) + fibo(B-2))\n",
    "\n",
    "terms = int(input(\"Number of terms: \"))\n",
    "\n",
    "if terms <= 0:\n",
    "   print(\"Please enter a positive value\")\n",
    "else:\n",
    "   print(\"Fibonacci sequence:\")\n",
    "   for i in range(terms):\n",
    "       print(fibo(i))"
   ]
  },
  {
   "cell_type": "code",
   "execution_count": 3,
   "id": "481e4baa-af10-4b56-ae53-00279cc2ad5a",
   "metadata": {},
   "outputs": [
    {
     "name": "stdin",
     "output_type": "stream",
     "text": [
      "Enter a Number:  89\n",
      "Enter another Number:  78\n"
     ]
    },
    {
     "name": "stdout",
     "output_type": "stream",
     "text": [
      "gcd( 89 , 78 ) =  1\n"
     ]
    }
   ],
   "source": [
    "def gcd(a,b):\n",
    "    if a == 0:\n",
    "        return b\n",
    "    \n",
    "    return gcd(b%a, a)\n",
    "\n",
    "a = int(input(\"Enter a Number: \"))\n",
    "b = int(input(\"Enter another Number: \"))\n",
    "\n",
    "print(\"gcd(\", a , \",\" , b, \") = \", gcd(a, b))"
   ]
  },
  {
   "cell_type": "code",
   "execution_count": 4,
   "id": "a5fb080a-9173-45cf-ac91-35a2e760736b",
   "metadata": {},
   "outputs": [
    {
     "name": "stdout",
     "output_type": "stream",
     "text": [
      "[252, 687, 650]\n",
      "[150, 336, 233]\n",
      "[170, 344, 187]\n"
     ]
    }
   ],
   "source": [
    "X = [[10,7,32],\n",
    "    [13 ,5,11],\n",
    "    [7 ,15,9]]\n",
    "# 3x4 matrix\n",
    "Y = [[5,8,1],\n",
    "    [6,9,0],\n",
    "    [5,17,20]]\n",
    "# result is 3x4\n",
    "result = [[0,0,0],\n",
    "         [0,0,0],\n",
    "         [0,0,0]]\n",
    "\n",
    "# iterate through rows of X\n",
    "for i in range(len(X)):\n",
    "   # iterate through columns of Y\n",
    "   for j in range(len(Y[0])):\n",
    "       # iterate through rows of Y\n",
    "       for k in range(len(Y)):\n",
    "           result[i][j] += X[i][k] * Y[k][j]\n",
    "\n",
    "for r in result:\n",
    "   print(r)\n"
   ]
  },
  {
   "cell_type": "code",
   "execution_count": 5,
   "id": "c0b04b46-94bb-4aad-96c4-44af5db02ebf",
   "metadata": {},
   "outputs": [
    {
     "name": "stdin",
     "output_type": "stream",
     "text": [
      "Enter a string:  iyiyi\n"
     ]
    },
    {
     "name": "stdout",
     "output_type": "stream",
     "text": [
      "The string is a plainrome.\n"
     ]
    }
   ],
   "source": [
    "my_str = str(input(\"Enter a string: \"))\n",
    "\n",
    "my_str = my_str.casefold()\n",
    "reverse = reversed(my_str)\n",
    "\n",
    "if list(my_str) == list(reverse):\n",
    "   print(\"The string is a plainrome.\")\n",
    "else:\n",
    "   print(\"Thr string is not a plaindrome.\")"
   ]
  },
  {
   "cell_type": "code",
   "execution_count": 9,
   "id": "f04d9db1-f329-4d65-9fab-a0de8ecc4562",
   "metadata": {},
   "outputs": [
    {
     "name": "stdout",
     "output_type": "stream",
     "text": [
      "    * \n",
      "   * * \n",
      "  * * * \n",
      " * * * * \n",
      "* * * * * \n"
     ]
    }
   ],
   "source": [
    "rows = 5\n",
    "\n",
    "for i in range(1, rows+1):\n",
    "    for space in range(1, rows-i+1):\n",
    "        print(\" \",end=\"\")\n",
    "    for j in range(0, i):\n",
    "        print(\"*\", end = \" \")\n",
    "    print()"
   ]
  },
  {
   "cell_type": "code",
   "execution_count": 10,
   "id": "739bd326-6ff9-4ca0-97b9-7888e51a496f",
   "metadata": {},
   "outputs": [
    {
     "name": "stdout",
     "output_type": "stream",
     "text": [
      "* * * * * \n",
      " * * * * \n",
      "  * * * \n",
      "   * * \n",
      "    * \n"
     ]
    }
   ],
   "source": [
    "rows = 5\n",
    "\n",
    "for i in range(rows, 0, -1):\n",
    "    for j in range(0, rows-i):\n",
    "        print(end=\" \")\n",
    "    for j in range(0,i):\n",
    "        print(\"*\", end = \" \")\n",
    "    print()"
   ]
  },
  {
   "cell_type": "code",
   "execution_count": 11,
   "id": "04b0f5a1-93bf-4573-aea0-1988f0f081f2",
   "metadata": {},
   "outputs": [
    {
     "name": "stdout",
     "output_type": "stream",
     "text": [
      "Union of A and B is {11, 14, 16, 17, 20, 25, 27}\n",
      "Intersection of A and B is {16, 11, 14}\n",
      "Difference of A and B is {17, 20}\n",
      "Symmetric difference of A and B is {17, 20, 27, 25}\n"
     ]
    }
   ],
   "source": [
    "A = {16, 17, 14, 11, 20}\n",
    "B = {25, 27, 16, 14, 11}\n",
    "\n",
    "# set union\n",
    "print(\"Union of A and B is\",A | B)\n",
    "\n",
    "# set intersection\n",
    "print(\"Intersection of A and B is\",A & B)\n",
    "\n",
    "# set difference\n",
    "print(\"Difference of A and B is\",A - B)\n",
    "\n",
    "# set symmetric difference\n",
    "print(\"Symmetric difference of A and B is\",A ^ B)"
   ]
  },
  {
   "cell_type": "code",
   "execution_count": 12,
   "id": "723eedf2-6f6f-4215-9b58-843623764888",
   "metadata": {},
   "outputs": [
    {
     "name": "stdin",
     "output_type": "stream",
     "text": [
      "Enter a string:  Hello world, this is a string\n"
     ]
    },
    {
     "name": "stdout",
     "output_type": "stream",
     "text": [
      "The sorted words are:\n",
      "a\n",
      "hello\n",
      "is\n",
      "string\n",
      "this\n",
      "world,\n"
     ]
    }
   ],
   "source": [
    "my_str = input(\"Enter a string: \")\n",
    "\n",
    "words = [word.lower() for word in my_str.split()]\n",
    "words.sort()\n",
    "\n",
    "print(\"The sorted words are:\")\n",
    "for word in words:\n",
    "   print(word)"
   ]
  },
  {
   "cell_type": "code",
   "execution_count": null,
   "id": "4c77d5e9-f419-40ca-9ab4-43b147b293aa",
   "metadata": {},
   "outputs": [],
   "source": []
  }
 ],
 "metadata": {
  "kernelspec": {
   "display_name": "Python 3 (ipykernel)",
   "language": "python",
   "name": "python3"
  },
  "language_info": {
   "codemirror_mode": {
    "name": "ipython",
    "version": 3
   },
   "file_extension": ".py",
   "mimetype": "text/x-python",
   "name": "python",
   "nbconvert_exporter": "python",
   "pygments_lexer": "ipython3",
   "version": "3.9.5"
  }
 },
 "nbformat": 4,
 "nbformat_minor": 5
}

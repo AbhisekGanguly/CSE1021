{
 "cells": [
  {
   "cell_type": "markdown",
   "id": "a4a39d4a-0bff-42da-ba86-71cb830471f3",
   "metadata": {},
   "source": [
    "# Set operation"
   ]
  },
  {
   "cell_type": "code",
   "execution_count": 2,
   "id": "9a85a025-4786-44ce-ba4a-b58bb57e8ed9",
   "metadata": {},
   "outputs": [],
   "source": [
    "A = {16, 17, 14, 11, 20}\n",
    "B = {25, 27, 16, 14, 11}"
   ]
  },
  {
   "cell_type": "markdown",
   "id": "05dac535-eb87-49be-8882-1ca28bed4af4",
   "metadata": {},
   "source": [
    "## add()|"
   ]
  },
  {
   "cell_type": "code",
   "execution_count": 23,
   "id": "4e6724ca-731c-4ce4-848e-32419fe9e538",
   "metadata": {},
   "outputs": [],
   "source": [
    "A.add(10)"
   ]
  },
  {
   "cell_type": "code",
   "execution_count": 5,
   "id": "26b7cffa-10f5-4825-b52a-bc6a27e21e97",
   "metadata": {},
   "outputs": [
    {
     "data": {
      "text/plain": [
       "{10, 11, 14, 16, 17, 20}"
      ]
     },
     "execution_count": 5,
     "metadata": {},
     "output_type": "execute_result"
    }
   ],
   "source": [
    "A"
   ]
  },
  {
   "cell_type": "markdown",
   "id": "110eb854-cfae-4073-a1df-89146e7ddef6",
   "metadata": {},
   "source": [
    "## clear()"
   ]
  },
  {
   "cell_type": "code",
   "execution_count": 6,
   "id": "00755e6c-5ed2-4aab-bb99-d8960af73c54",
   "metadata": {},
   "outputs": [],
   "source": [
    "B.clear()"
   ]
  },
  {
   "cell_type": "code",
   "execution_count": 7,
   "id": "f85d8b1c-78a6-43b5-96e5-2ae7441eda92",
   "metadata": {},
   "outputs": [
    {
     "data": {
      "text/plain": [
       "set()"
      ]
     },
     "execution_count": 7,
     "metadata": {},
     "output_type": "execute_result"
    }
   ],
   "source": [
    "B"
   ]
  },
  {
   "cell_type": "markdown",
   "id": "ab444168-8bc0-4bcc-8199-109167a06bc6",
   "metadata": {},
   "source": [
    "## copy()"
   ]
  },
  {
   "cell_type": "code",
   "execution_count": 9,
   "id": "9835c77d-999b-41d7-9432-a8a3c8021695",
   "metadata": {},
   "outputs": [],
   "source": [
    "B = A.copy()"
   ]
  },
  {
   "cell_type": "code",
   "execution_count": 10,
   "id": "7a36bb06-386c-4d78-892e-2a310665baff",
   "metadata": {},
   "outputs": [
    {
     "data": {
      "text/plain": [
       "{10, 11, 14, 16, 17, 20}"
      ]
     },
     "execution_count": 10,
     "metadata": {},
     "output_type": "execute_result"
    }
   ],
   "source": [
    "B"
   ]
  },
  {
   "cell_type": "markdown",
   "id": "001dd30c-a2cb-4e4c-8424-1234c888bedd",
   "metadata": {},
   "source": [
    "## difference()"
   ]
  },
  {
   "cell_type": "code",
   "execution_count": 11,
   "id": "bfd8a16b-d39d-4605-b01e-22328a6f39b5",
   "metadata": {},
   "outputs": [
    {
     "data": {
      "text/plain": [
       "set()"
      ]
     },
     "execution_count": 11,
     "metadata": {},
     "output_type": "execute_result"
    }
   ],
   "source": [
    "A.difference(B)"
   ]
  },
  {
   "cell_type": "markdown",
   "id": "4d159c2d-8baf-46b4-9df6-dcd053cf715d",
   "metadata": {},
   "source": [
    "## difference_update()"
   ]
  },
  {
   "cell_type": "code",
   "execution_count": 13,
   "id": "0b6413fd-c6f1-4e6a-a355-b075996d5f63",
   "metadata": {},
   "outputs": [],
   "source": [
    "A.difference_update(B)"
   ]
  },
  {
   "cell_type": "code",
   "execution_count": 14,
   "id": "9c082f3f-da96-48e6-b246-b651eec5863b",
   "metadata": {},
   "outputs": [
    {
     "data": {
      "text/plain": [
       "set()"
      ]
     },
     "execution_count": 14,
     "metadata": {},
     "output_type": "execute_result"
    }
   ],
   "source": [
    "A"
   ]
  },
  {
   "cell_type": "code",
   "execution_count": 15,
   "id": "6c17ceba-be29-488c-b57f-26d94bc336e0",
   "metadata": {},
   "outputs": [],
   "source": [
    "A = {1,2,4,5,3,4,45,234,90}\n",
    "B = {43,234,64,134,5,134,63}"
   ]
  },
  {
   "cell_type": "markdown",
   "id": "d0450ca5-eda8-4188-ab0d-0a7d9ffd8875",
   "metadata": {},
   "source": [
    "## discard()"
   ]
  },
  {
   "cell_type": "code",
   "execution_count": 16,
   "id": "0406ba1f-8498-4761-a754-cd3e4fdc1c0b",
   "metadata": {},
   "outputs": [],
   "source": [
    "A.discard(234)"
   ]
  },
  {
   "cell_type": "code",
   "execution_count": 17,
   "id": "1d04a4ec-848d-4173-af39-38a4a48b1907",
   "metadata": {},
   "outputs": [
    {
     "data": {
      "text/plain": [
       "{1, 2, 3, 4, 5, 45, 90}"
      ]
     },
     "execution_count": 17,
     "metadata": {},
     "output_type": "execute_result"
    }
   ],
   "source": [
    "A"
   ]
  },
  {
   "cell_type": "markdown",
   "id": "8d977600-5b03-455f-831d-d1e6447e4a62",
   "metadata": {},
   "source": [
    "## intersection()"
   ]
  },
  {
   "cell_type": "code",
   "execution_count": 18,
   "id": "c3ed8125-c501-457d-8735-509f89141d7f",
   "metadata": {},
   "outputs": [
    {
     "data": {
      "text/plain": [
       "{5}"
      ]
     },
     "execution_count": 18,
     "metadata": {},
     "output_type": "execute_result"
    }
   ],
   "source": [
    "A.intersection(B)"
   ]
  },
  {
   "cell_type": "markdown",
   "id": "af5d7ac9-9738-439d-9606-a96c09788283",
   "metadata": {},
   "source": [
    "## intersection_update()"
   ]
  },
  {
   "cell_type": "code",
   "execution_count": 19,
   "id": "f3b68020-1ee3-4331-9617-ff14eea7a36d",
   "metadata": {},
   "outputs": [],
   "source": [
    "A.intersection_update(B)"
   ]
  },
  {
   "cell_type": "code",
   "execution_count": 20,
   "id": "30eac6ec-439e-42bd-a7e5-085ef61ff31e",
   "metadata": {},
   "outputs": [
    {
     "data": {
      "text/plain": [
       "{5}"
      ]
     },
     "execution_count": 20,
     "metadata": {},
     "output_type": "execute_result"
    }
   ],
   "source": [
    "A"
   ]
  },
  {
   "cell_type": "code",
   "execution_count": 21,
   "id": "915077e0-5138-405e-819e-d822de3b861e",
   "metadata": {},
   "outputs": [
    {
     "data": {
      "text/plain": [
       "{5, 43, 63, 64, 134, 234}"
      ]
     },
     "execution_count": 21,
     "metadata": {},
     "output_type": "execute_result"
    }
   ],
   "source": [
    "B"
   ]
  },
  {
   "cell_type": "markdown",
   "id": "1f554bae-ba2a-44b0-8a65-fef9b828c02e",
   "metadata": {},
   "source": [
    "## isdisjoint()"
   ]
  },
  {
   "cell_type": "code",
   "execution_count": 22,
   "id": "f95eea46-efb8-4c90-8cab-6c571818302a",
   "metadata": {},
   "outputs": [
    {
     "data": {
      "text/plain": [
       "False"
      ]
     },
     "execution_count": 22,
     "metadata": {},
     "output_type": "execute_result"
    }
   ],
   "source": [
    "A.isdisjoint(B)"
   ]
  },
  {
   "cell_type": "markdown",
   "id": "fb5b98d6-3c54-47b6-8cb4-a5ba92152ba5",
   "metadata": {},
   "source": [
    "## issubset()"
   ]
  },
  {
   "cell_type": "code",
   "execution_count": 24,
   "id": "0266ab6f-2332-4cfd-a997-956194736cbd",
   "metadata": {},
   "outputs": [
    {
     "data": {
      "text/plain": [
       "False"
      ]
     },
     "execution_count": 24,
     "metadata": {},
     "output_type": "execute_result"
    }
   ],
   "source": [
    "A.issubset(B)"
   ]
  },
  {
   "cell_type": "markdown",
   "id": "eb8c4f4f-6e9a-4427-8d7c-741b397a0afe",
   "metadata": {},
   "source": [
    "## issuperset()"
   ]
  },
  {
   "cell_type": "code",
   "execution_count": 25,
   "id": "a1c95339-60c9-453b-bbf8-e2e2f01a37a6",
   "metadata": {},
   "outputs": [
    {
     "data": {
      "text/plain": [
       "False"
      ]
     },
     "execution_count": 25,
     "metadata": {},
     "output_type": "execute_result"
    }
   ],
   "source": [
    "A.issuperset(B)"
   ]
  },
  {
   "cell_type": "markdown",
   "id": "38d8d08d-905f-4150-af15-bfb11e24aae9",
   "metadata": {},
   "source": [
    "## pop()"
   ]
  },
  {
   "cell_type": "code",
   "execution_count": 27,
   "id": "9ee4d50b-8071-462b-bd2d-c6713e11342e",
   "metadata": {},
   "outputs": [
    {
     "data": {
      "text/plain": [
       "64"
      ]
     },
     "execution_count": 27,
     "metadata": {},
     "output_type": "execute_result"
    }
   ],
   "source": [
    "B.pop()"
   ]
  },
  {
   "cell_type": "code",
   "execution_count": 28,
   "id": "cf7be3d9-a8d6-4250-9465-6ae96ebfdf0c",
   "metadata": {},
   "outputs": [
    {
     "data": {
      "text/plain": [
       "{5, 43, 63, 134, 234}"
      ]
     },
     "execution_count": 28,
     "metadata": {},
     "output_type": "execute_result"
    }
   ],
   "source": [
    "B"
   ]
  },
  {
   "cell_type": "code",
   "execution_count": 29,
   "id": "6fa35336-d116-45a2-836e-34056d49d628",
   "metadata": {},
   "outputs": [
    {
     "data": {
      "text/plain": [
       "{5, 10}"
      ]
     },
     "execution_count": 29,
     "metadata": {},
     "output_type": "execute_result"
    }
   ],
   "source": [
    "A"
   ]
  },
  {
   "cell_type": "markdown",
   "id": "2ae16e26-7f97-4b96-961a-f7c4b1df711c",
   "metadata": {},
   "source": [
    "## remove()"
   ]
  },
  {
   "cell_type": "code",
   "execution_count": 30,
   "id": "d64c1d21-1225-472f-8c29-9cd095174168",
   "metadata": {},
   "outputs": [],
   "source": [
    "B.remove(234)"
   ]
  },
  {
   "cell_type": "code",
   "execution_count": 31,
   "id": "21291dd7-4f5e-4881-8050-4e65825830f5",
   "metadata": {},
   "outputs": [
    {
     "data": {
      "text/plain": [
       "{5, 43, 63, 134}"
      ]
     },
     "execution_count": 31,
     "metadata": {},
     "output_type": "execute_result"
    }
   ],
   "source": [
    "B"
   ]
  },
  {
   "cell_type": "markdown",
   "id": "e7e9be41-1ab5-452e-8db5-5c6aace9d1c5",
   "metadata": {},
   "source": [
    "## symmetric_difference()"
   ]
  },
  {
   "cell_type": "code",
   "execution_count": 32,
   "id": "bc2a65f8-3c9e-481f-aebf-69555d9edf29",
   "metadata": {},
   "outputs": [
    {
     "data": {
      "text/plain": [
       "{10, 43, 63, 134}"
      ]
     },
     "execution_count": 32,
     "metadata": {},
     "output_type": "execute_result"
    }
   ],
   "source": [
    "A.symmetric_difference(B)"
   ]
  },
  {
   "cell_type": "markdown",
   "id": "b11cf0d8-bece-40ae-9667-c8ff1dbb9115",
   "metadata": {},
   "source": [
    "## symmetric_difference_update()"
   ]
  },
  {
   "cell_type": "code",
   "execution_count": 33,
   "id": "7eb62796-6086-4002-8167-ac10c8cc1f6b",
   "metadata": {},
   "outputs": [],
   "source": [
    "A.symmetric_difference_update(B)"
   ]
  },
  {
   "cell_type": "markdown",
   "id": "a4021343-7ec2-45bd-acf9-a5acd46d0760",
   "metadata": {},
   "source": [
    "## union()"
   ]
  },
  {
   "cell_type": "code",
   "execution_count": 35,
   "id": "092281db-150c-407e-aff6-f134b1863bd9",
   "metadata": {},
   "outputs": [
    {
     "data": {
      "text/plain": [
       "{5, 10, 43, 63, 134}"
      ]
     },
     "execution_count": 35,
     "metadata": {},
     "output_type": "execute_result"
    }
   ],
   "source": [
    "A.union(B)"
   ]
  },
  {
   "cell_type": "markdown",
   "id": "64d786f7-dfa6-4d1f-982f-81b83ba8f7fa",
   "metadata": {},
   "source": [
    "## update()"
   ]
  },
  {
   "cell_type": "code",
   "execution_count": 36,
   "id": "77699596-9302-4d7d-8ab3-58e3d58c761a",
   "metadata": {},
   "outputs": [],
   "source": [
    "A.update(B)"
   ]
  },
  {
   "cell_type": "code",
   "execution_count": 37,
   "id": "466f051d-da02-4be8-a073-1ca20b5d265e",
   "metadata": {},
   "outputs": [
    {
     "data": {
      "text/plain": [
       "{5, 10, 43, 63, 134}"
      ]
     },
     "execution_count": 37,
     "metadata": {},
     "output_type": "execute_result"
    }
   ],
   "source": [
    "A"
   ]
  },
  {
   "cell_type": "code",
   "execution_count": 38,
   "id": "3562523b-a800-4ff0-8242-791ab69716b4",
   "metadata": {},
   "outputs": [
    {
     "data": {
      "text/plain": [
       "{5, 43, 63, 134}"
      ]
     },
     "execution_count": 38,
     "metadata": {},
     "output_type": "execute_result"
    }
   ],
   "source": [
    "B"
   ]
  },
  {
   "cell_type": "code",
   "execution_count": null,
   "id": "171b16dd-f254-4aac-a4f6-3154147b5bf1",
   "metadata": {},
   "outputs": [],
   "source": []
  }
 ],
 "metadata": {
  "kernelspec": {
   "display_name": "Python 3 (ipykernel)",
   "language": "python",
   "name": "python3"
  },
  "language_info": {
   "codemirror_mode": {
    "name": "ipython",
    "version": 3
   },
   "file_extension": ".py",
   "mimetype": "text/x-python",
   "name": "python",
   "nbconvert_exporter": "python",
   "pygments_lexer": "ipython3",
   "version": "3.9.5"
  }
 },
 "nbformat": 4,
 "nbformat_minor": 5
}
